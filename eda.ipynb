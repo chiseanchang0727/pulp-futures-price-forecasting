{
 "cells": [
  {
   "cell_type": "code",
   "execution_count": 2,
   "metadata": {},
   "outputs": [],
   "source": [
    "import re\n",
    "import numpy as np\n",
    "import pandas as pd\n",
    "from statsmodels.tsa.stattools import adfuller, kpss\n",
    "import matplotlib.pyplot as plt\n",
    "import seaborn as sns\n"
   ]
  },
  {
   "cell_type": "code",
   "execution_count": 3,
   "metadata": {},
   "outputs": [],
   "source": [
    "df = pd.read_csv('./data/Bleached Softwood Kraft Pulp Futures Historical Data.csv')"
   ]
  },
  {
   "cell_type": "code",
   "execution_count": 4,
   "metadata": {},
   "outputs": [],
   "source": [
    "def clean_data(input_df: pd.DataFrame) -> pd.DataFrame:\n",
    "    df = input_df.copy()\n",
    "    cols = ['Price', 'Open', 'High', 'Low', 'Vol.', 'Change %']\n",
    "\n",
    "    for col in cols:\n",
    "        if col == 'Vol.':\n",
    "            df[col] = df[col].apply(lambda x: float(re.sub('K', '', x)) * 1000 if x != '-' else 0)\n",
    "        elif col == 'Change %':\n",
    "            df[col] = df[col].apply(lambda x: float(re.sub('%', '', x)) / 100)\n",
    "        else:\n",
    "            df[col] = df[col].apply(lambda x: float(re.sub(',', '', x)))\n",
    "    \n",
    "    return df\n"
   ]
  },
  {
   "cell_type": "code",
   "execution_count": 5,
   "metadata": {},
   "outputs": [
    {
     "data": {
      "text/html": [
       "<div>\n",
       "<style scoped>\n",
       "    .dataframe tbody tr th:only-of-type {\n",
       "        vertical-align: middle;\n",
       "    }\n",
       "\n",
       "    .dataframe tbody tr th {\n",
       "        vertical-align: top;\n",
       "    }\n",
       "\n",
       "    .dataframe thead th {\n",
       "        text-align: right;\n",
       "    }\n",
       "</style>\n",
       "<table border=\"1\" class=\"dataframe\">\n",
       "  <thead>\n",
       "    <tr style=\"text-align: right;\">\n",
       "      <th></th>\n",
       "      <th>Date</th>\n",
       "      <th>Price</th>\n",
       "      <th>Open</th>\n",
       "      <th>High</th>\n",
       "      <th>Low</th>\n",
       "      <th>Vol.</th>\n",
       "      <th>Change %</th>\n",
       "    </tr>\n",
       "  </thead>\n",
       "  <tbody>\n",
       "    <tr>\n",
       "      <th>0</th>\n",
       "      <td>09/18/2024</td>\n",
       "      <td>5564.0</td>\n",
       "      <td>5580.0</td>\n",
       "      <td>5600.0</td>\n",
       "      <td>5510.0</td>\n",
       "      <td>1150.0</td>\n",
       "      <td>0.0022</td>\n",
       "    </tr>\n",
       "    <tr>\n",
       "      <th>1</th>\n",
       "      <td>09/13/2024</td>\n",
       "      <td>5552.0</td>\n",
       "      <td>5532.0</td>\n",
       "      <td>5578.0</td>\n",
       "      <td>5526.0</td>\n",
       "      <td>310.0</td>\n",
       "      <td>0.0029</td>\n",
       "    </tr>\n",
       "    <tr>\n",
       "      <th>2</th>\n",
       "      <td>09/12/2024</td>\n",
       "      <td>5536.0</td>\n",
       "      <td>5566.0</td>\n",
       "      <td>5582.0</td>\n",
       "      <td>5510.0</td>\n",
       "      <td>180.0</td>\n",
       "      <td>-0.0018</td>\n",
       "    </tr>\n",
       "    <tr>\n",
       "      <th>3</th>\n",
       "      <td>09/11/2024</td>\n",
       "      <td>5546.0</td>\n",
       "      <td>5602.0</td>\n",
       "      <td>5624.0</td>\n",
       "      <td>5502.0</td>\n",
       "      <td>2180.0</td>\n",
       "      <td>-0.0142</td>\n",
       "    </tr>\n",
       "    <tr>\n",
       "      <th>4</th>\n",
       "      <td>09/10/2024</td>\n",
       "      <td>5626.0</td>\n",
       "      <td>5616.0</td>\n",
       "      <td>5670.0</td>\n",
       "      <td>5612.0</td>\n",
       "      <td>360.0</td>\n",
       "      <td>-0.0004</td>\n",
       "    </tr>\n",
       "  </tbody>\n",
       "</table>\n",
       "</div>"
      ],
      "text/plain": [
       "         Date   Price    Open    High     Low    Vol.  Change %\n",
       "0  09/18/2024  5564.0  5580.0  5600.0  5510.0  1150.0    0.0022\n",
       "1  09/13/2024  5552.0  5532.0  5578.0  5526.0   310.0    0.0029\n",
       "2  09/12/2024  5536.0  5566.0  5582.0  5510.0   180.0   -0.0018\n",
       "3  09/11/2024  5546.0  5602.0  5624.0  5502.0  2180.0   -0.0142\n",
       "4  09/10/2024  5626.0  5616.0  5670.0  5612.0   360.0   -0.0004"
      ]
     },
     "execution_count": 5,
     "metadata": {},
     "output_type": "execute_result"
    }
   ],
   "source": [
    "df = clean_data(df)\n",
    "df.head()"
   ]
  },
  {
   "cell_type": "markdown",
   "metadata": {},
   "source": [
    "## Augmented Dickey-Fuller(ADF) test"
   ]
  },
  {
   "cell_type": "markdown",
   "metadata": {},
   "source": [
    "- Augmented Dickey-Fuller (ADF) test is a type of statistical test called a unit root test. Unit roots are a cause for non-stationarity.\n",
    "\n",
    "- **Null Hypothesis (H0)**: Time series has a unit root. (Time series is not stationary).\n",
    "\n",
    "- **Alternate Hypothesis (H1)**: Time series has no unit root (Time series is stationary).\n",
    "\n",
    "    - If the null hypothesis can be rejected, we can conclude that the time series is stationary.\n",
    "\n",
    "There are two ways to rejects the null hypothesis:\n",
    "1.  the null hypothesis can be rejected if the p-value is below a set significance level. The defaults significance level is 5%\n",
    "    - **p-value > significance level (default: 0.05)**: Fail to reject the null hypothesis (H0), the data has a unit root and is non-stationary.\n",
    "    - **p-value <= significance level (default: 0.05)**: Reject the null hypothesis (H0), the data does not have a unit root and is stationary.\n",
    "2.  the null hypothesis can be rejects if the test statistic is less than the critical value.\n",
    "\n",
    "    - **ADF statistic > critical value**: Fail to reject the null hypothesis (H0), the data has a unit root and is non-stationary.\n",
    "    - **ADF statistic < critical value**: Reject the null hypothesis (H0), the data does not have a unit root and is stationary."
   ]
  },
  {
   "cell_type": "code",
   "execution_count": 18,
   "metadata": {},
   "outputs": [],
   "source": [
    "def adftest(timeseries):\n",
    "    result = adfuller(timeseries)\n",
    "    adf_stat = result[0]\n",
    "    p_val = result[1]\n",
    "    crit_val_1 = result[4]['1%']\n",
    "    crit_val_5 = result[4]['5%']\n",
    "    crit_val_10 = result[4]['10%']\n",
    "    \n",
    "    result_str = f\"\"\"\n",
    "    Result of ADF test:\n",
    "    ADF Statistic {adf_stat:0.3f}, \n",
    "    p-value: {p_val:0.3f}\n",
    "    Critical Values  (1%): {crit_val_1:0.3f}, \n",
    "    Critical Values  (5%): {crit_val_5:0.3f}, \n",
    "    Critical Values  (10%): {crit_val_10:0.3f}\n",
    "    \"\"\"\n",
    "    \n",
    "    print(result_str)"
   ]
  },
  {
   "cell_type": "code",
   "execution_count": 19,
   "metadata": {},
   "outputs": [
    {
     "name": "stdout",
     "output_type": "stream",
     "text": [
      "\n",
      "    Result of ADF test:\n",
      "    ADF Statistic -1.332, \n",
      "    p-value: 0.615\n",
      "    Critical Values  (1%): -3.436, \n",
      "    Critical Values  (5%): -2.864, \n",
      "    Critical Values  (10%): -2.568\n",
      "    \n"
     ]
    }
   ],
   "source": [
    "adftest(df.Price)"
   ]
  },
  {
   "cell_type": "markdown",
   "metadata": {},
   "source": [
    "## KPSS (Kwiatkowski-Phillips-Schmidt-Shin) Test"
   ]
  },
  {
   "cell_type": "markdown",
   "metadata": {},
   "source": [
    "- KPSS is another test for checking the stationarity of a time series\n",
    "- The null and alternate hypothesis for the KPSS test are opposite that of the ADF test\n",
    "\n",
    "- Null Hypothesis: The process is trend stationary.\n",
    "- Alternate Hypothesis: The series has a unit root (series is not stationary)."
   ]
  },
  {
   "cell_type": "code",
   "execution_count": 20,
   "metadata": {},
   "outputs": [],
   "source": [
    "def kpss_test(timeseries):\n",
    "    print ('Results of KPSS Test:')\n",
    "    kpsstest = kpss(timeseries, regression='c')\n",
    "    kpss_output = pd.Series(kpsstest[0:3], index=['Test Statistic','p-value','Lags Used'])\n",
    "    for key,value in kpsstest[3].items():\n",
    "        kpss_output['Critical Value (%s)'%key] = value\n",
    "        \n",
    "    print (kpss_output)"
   ]
  },
  {
   "cell_type": "code",
   "execution_count": 23,
   "metadata": {},
   "outputs": [
    {
     "name": "stdout",
     "output_type": "stream",
     "text": [
      "Results of KPSS Test:\n",
      "Test Statistic            1.27676\n",
      "p-value                   0.01000\n",
      "Lags Used                20.00000\n",
      "Critical Value (10%)      0.34700\n",
      "Critical Value (5%)       0.46300\n",
      "Critical Value (2.5%)     0.57400\n",
      "Critical Value (1%)       0.73900\n",
      "dtype: float64\n"
     ]
    },
    {
     "name": "stderr",
     "output_type": "stream",
     "text": [
      "C:\\Users\\Sean\\AppData\\Local\\Temp\\ipykernel_23056\\3989176356.py:3: InterpolationWarning: The test statistic is outside of the range of p-values available in the\n",
      "look-up table. The actual p-value is smaller than the p-value returned.\n",
      "\n",
      "  kpsstest = kpss(timeseries, regression='c')\n"
     ]
    }
   ],
   "source": [
    "kpss_test(df.Price)"
   ]
  },
  {
   "cell_type": "markdown",
   "metadata": {},
   "source": [
    "- The Price is not stationary, which means its statistic properties(mean, variance, covariance) vary with time."
   ]
  }
 ],
 "metadata": {
  "kernelspec": {
   "display_name": "kmp",
   "language": "python",
   "name": "python3"
  },
  "language_info": {
   "codemirror_mode": {
    "name": "ipython",
    "version": 3
   },
   "file_extension": ".py",
   "mimetype": "text/x-python",
   "name": "python",
   "nbconvert_exporter": "python",
   "pygments_lexer": "ipython3",
   "version": "3.10.15"
  }
 },
 "nbformat": 4,
 "nbformat_minor": 2
}
